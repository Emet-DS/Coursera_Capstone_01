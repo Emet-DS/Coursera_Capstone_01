{
 "cells": [
  {
   "cell_type": "markdown",
   "metadata": {},
   "source": [
    "# Capstone Course\n",
    "## Week 03 Assignment\n",
    "### Part 1 - Data scrapping of Canada postal codes\n"
   ]
  },
  {
   "cell_type": "code",
   "execution_count": 1,
   "metadata": {},
   "outputs": [],
   "source": [
    "# Inlcude Beutifulsoup library\n",
    "from bs4 import BeautifulSoup\n"
   ]
  },
  {
   "cell_type": "code",
   "execution_count": 2,
   "metadata": {},
   "outputs": [
    {
     "name": "stderr",
     "output_type": "stream",
     "text": [
      "D:\\Anaconda3\\lib\\site-packages\\urllib3\\connectionpool.py:847: InsecureRequestWarning: Unverified HTTPS request is being made. Adding certificate verification is strongly advised. See: https://urllib3.readthedocs.io/en/latest/advanced-usage.html#ssl-warnings\n",
      "  InsecureRequestWarning)\n"
     ]
    }
   ],
   "source": [
    "# Open the file directly from its URL\n",
    "import urllib3\n",
    "url = 'https://en.wikipedia.org/wiki/List_of_postal_codes_of_Canada:_M'\n",
    "http = urllib3.PoolManager()\n",
    "page = http.request('GET', url)\n",
    "bs = BeautifulSoup(page.data)\n",
    "\n",
    "# print(bs.prettify()) #to verify that we get the html file correctly\n"
   ]
  },
  {
   "cell_type": "code",
   "execution_count": 3,
   "metadata": {},
   "outputs": [],
   "source": [
    "# Obtain the table information \n",
    "\n",
    "table = bs.find(lambda tag: tag.name=='tbody')  \n"
   ]
  },
  {
   "cell_type": "code",
   "execution_count": 24,
   "metadata": {},
   "outputs": [
    {
     "data": {
      "text/html": [
       "<div>\n",
       "<style scoped>\n",
       "    .dataframe tbody tr th:only-of-type {\n",
       "        vertical-align: middle;\n",
       "    }\n",
       "\n",
       "    .dataframe tbody tr th {\n",
       "        vertical-align: top;\n",
       "    }\n",
       "\n",
       "    .dataframe thead th {\n",
       "        text-align: right;\n",
       "    }\n",
       "</style>\n",
       "<table border=\"1\" class=\"dataframe\">\n",
       "  <thead>\n",
       "    <tr style=\"text-align: right;\">\n",
       "      <th></th>\n",
       "      <th>PostalCode</th>\n",
       "      <th>Borough</th>\n",
       "      <th>Neighbourhood</th>\n",
       "    </tr>\n",
       "  </thead>\n",
       "  <tbody>\n",
       "    <tr>\n",
       "      <td>0</td>\n",
       "      <td>M1A</td>\n",
       "      <td>Not assigned</td>\n",
       "      <td>NaN</td>\n",
       "    </tr>\n",
       "    <tr>\n",
       "      <td>1</td>\n",
       "      <td>M2A</td>\n",
       "      <td>Not assigned</td>\n",
       "      <td>NaN</td>\n",
       "    </tr>\n",
       "    <tr>\n",
       "      <td>2</td>\n",
       "      <td>M3A</td>\n",
       "      <td>North York</td>\n",
       "      <td>Parkwoods</td>\n",
       "    </tr>\n",
       "    <tr>\n",
       "      <td>3</td>\n",
       "      <td>M4A</td>\n",
       "      <td>North York</td>\n",
       "      <td>Victoria Village</td>\n",
       "    </tr>\n",
       "    <tr>\n",
       "      <td>4</td>\n",
       "      <td>M5A</td>\n",
       "      <td>Downtown Toronto</td>\n",
       "      <td>Regent Park ,  Harbourfront</td>\n",
       "    </tr>\n",
       "  </tbody>\n",
       "</table>\n",
       "</div>"
      ],
      "text/plain": [
       "  PostalCode           Borough                Neighbourhood\n",
       "0        M1A      Not assigned                          NaN\n",
       "1        M2A      Not assigned                          NaN\n",
       "2        M3A        North York                    Parkwoods\n",
       "3        M4A        North York             Victoria Village\n",
       "4        M5A  Downtown Toronto  Regent Park ,  Harbourfront"
      ]
     },
     "execution_count": 24,
     "metadata": {},
     "output_type": "execute_result"
    }
   ],
   "source": [
    "# Process the information we have from the html table\n",
    "# Since the format changed from a regular 3 column table to a grid,\n",
    "# and will process each 'td' table data cell, and clean the information\n",
    "# while we iterate between the cells\n",
    "\n",
    "import pandas as pd\n",
    "\n",
    "# Identify the total amount of cells, that will be the same as\n",
    "# the total rows of our data frame\n",
    "count_rows = 0\n",
    "for row in table.find_all('tr'):\n",
    "    for column in row.find_all('td'):\n",
    "        count_rows +=1\n",
    "\n",
    "# Create a dataframe so we can fill it with the scraped data\n",
    "\n",
    "canada_codes = pd.DataFrame(columns = ['PostalCode','Borough','Neighbourhood'], index = range(0,count_rows))\n",
    "\n",
    "# Process the cells in modified wiki table\n",
    "\n",
    "cell_marker = 0\n",
    "for row in table.find_all('tr'):\n",
    "    for column in row.find_all('td'):\n",
    "        text_string = column.get_text().strip('\\n')\n",
    "        postal_code = text_string[0:3]\n",
    "        # Use the first parenthesis as a basis to separate bourghs from neighbourhoods\n",
    "        first_parenthesis = text_string.find('(',3)\n",
    "        if first_parenthesis == -1:\n",
    "            # Catch an expection to the '(' rule, where its not consisten and a '/' is used\n",
    "            if text_string.find('/',3) == -1:\n",
    "                borough = text_string[3: len(text_string)]\n",
    "                neighbourhood = 'NaN'\n",
    "            else:\n",
    "                borough = text_string[3: text_string.find('/',3)]\n",
    "                neighbourhood = text_string[text_string.find('/',3):len(text_string)].replace('/','')\n",
    "        else:\n",
    "            borough = text_string[3: first_parenthesis]\n",
    "            #And replace and clean the neighberhood string data\n",
    "            neighbourhood = text_string[first_parenthesis : len(text_string)].replace('/',', ').replace('(','').replace(')','')\n",
    "        \n",
    "        # Insert the cell data into our dataframe\n",
    "        canada_codes.iat[cell_marker,0] = postal_code\n",
    "        canada_codes.iat[cell_marker,1] = borough\n",
    "        canada_codes.iat[cell_marker,2] = neighbourhood\n",
    "        \n",
    "        cell_marker += 1\n",
    "\n",
    "# Review the inserted data\n",
    "canada_codes.head()"
   ]
  },
  {
   "cell_type": "code",
   "execution_count": 25,
   "metadata": {},
   "outputs": [
    {
     "data": {
      "text/html": [
       "<div>\n",
       "<style scoped>\n",
       "    .dataframe tbody tr th:only-of-type {\n",
       "        vertical-align: middle;\n",
       "    }\n",
       "\n",
       "    .dataframe tbody tr th {\n",
       "        vertical-align: top;\n",
       "    }\n",
       "\n",
       "    .dataframe thead th {\n",
       "        text-align: right;\n",
       "    }\n",
       "</style>\n",
       "<table border=\"1\" class=\"dataframe\">\n",
       "  <thead>\n",
       "    <tr style=\"text-align: right;\">\n",
       "      <th></th>\n",
       "      <th>PostalCode</th>\n",
       "      <th>Borough</th>\n",
       "      <th>Neighbourhood</th>\n",
       "    </tr>\n",
       "  </thead>\n",
       "  <tbody>\n",
       "    <tr>\n",
       "      <td>2</td>\n",
       "      <td>M3A</td>\n",
       "      <td>North York</td>\n",
       "      <td>Parkwoods</td>\n",
       "    </tr>\n",
       "    <tr>\n",
       "      <td>3</td>\n",
       "      <td>M4A</td>\n",
       "      <td>North York</td>\n",
       "      <td>Victoria Village</td>\n",
       "    </tr>\n",
       "    <tr>\n",
       "      <td>4</td>\n",
       "      <td>M5A</td>\n",
       "      <td>Downtown Toronto</td>\n",
       "      <td>Regent Park ,  Harbourfront</td>\n",
       "    </tr>\n",
       "    <tr>\n",
       "      <td>5</td>\n",
       "      <td>M6A</td>\n",
       "      <td>North York</td>\n",
       "      <td>Lawrence Manor ,  Lawrence Heights</td>\n",
       "    </tr>\n",
       "    <tr>\n",
       "      <td>6</td>\n",
       "      <td>M7A</td>\n",
       "      <td>Queen's Park</td>\n",
       "      <td>Ontario Provincial Government</td>\n",
       "    </tr>\n",
       "  </tbody>\n",
       "</table>\n",
       "</div>"
      ],
      "text/plain": [
       "  PostalCode           Borough                       Neighbourhood\n",
       "2        M3A        North York                           Parkwoods\n",
       "3        M4A        North York                    Victoria Village\n",
       "4        M5A  Downtown Toronto         Regent Park ,  Harbourfront\n",
       "5        M6A        North York  Lawrence Manor ,  Lawrence Heights\n",
       "6        M7A     Queen's Park        Ontario Provincial Government"
      ]
     },
     "execution_count": 25,
     "metadata": {},
     "output_type": "execute_result"
    }
   ],
   "source": [
    "# Create a copy to manipulate to transform the canada_codes table, eliminating unecesary boroughs 'Not assigned'\n",
    "df_copy = canada_codes[canada_codes.Borough != 'Not assigned'].copy()\n",
    "\n",
    "df_copy.head(5)\n"
   ]
  },
  {
   "cell_type": "code",
   "execution_count": 26,
   "metadata": {},
   "outputs": [
    {
     "data": {
      "text/html": [
       "<div>\n",
       "<style scoped>\n",
       "    .dataframe tbody tr th:only-of-type {\n",
       "        vertical-align: middle;\n",
       "    }\n",
       "\n",
       "    .dataframe tbody tr th {\n",
       "        vertical-align: top;\n",
       "    }\n",
       "\n",
       "    .dataframe thead th {\n",
       "        text-align: right;\n",
       "    }\n",
       "</style>\n",
       "<table border=\"1\" class=\"dataframe\">\n",
       "  <thead>\n",
       "    <tr style=\"text-align: right;\">\n",
       "      <th></th>\n",
       "      <th>PostalCode</th>\n",
       "      <th>Borough</th>\n",
       "      <th>Neighbourhood</th>\n",
       "    </tr>\n",
       "  </thead>\n",
       "  <tbody>\n",
       "  </tbody>\n",
       "</table>\n",
       "</div>"
      ],
      "text/plain": [
       "Empty DataFrame\n",
       "Columns: [PostalCode, Borough, Neighbourhood]\n",
       "Index: []"
      ]
     },
     "execution_count": 26,
     "metadata": {},
     "output_type": "execute_result"
    }
   ],
   "source": [
    "# We confirm there are no Neighberhoods with \"Not assigned\"\n",
    "df_copy_2 = df_copy[df_copy.Neighbourhood == 'Not assigned'].copy()\n",
    "df_copy_2.head(5)\n"
   ]
  },
  {
   "cell_type": "code",
   "execution_count": 29,
   "metadata": {},
   "outputs": [
    {
     "data": {
      "text/plain": [
       "(103, 3)"
      ]
     },
     "execution_count": 29,
     "metadata": {},
     "output_type": "execute_result"
    }
   ],
   "source": [
    "# We review the shape of the datafram, resulting in 103 rows with 3 columns\n",
    "df_copy.shape"
   ]
  },
  {
   "cell_type": "markdown",
   "metadata": {},
   "source": [
    "### Week 03 Assignment - Results\n",
    "### Part 1 - Data scrapping of Canada postal codes\n",
    "## 103 rows of Postal Codes with 3 columns (PostalCode, Borough, Neigborhood)"
   ]
  },
  {
   "cell_type": "code",
   "execution_count": null,
   "metadata": {},
   "outputs": [],
   "source": []
  }
 ],
 "metadata": {
  "kernelspec": {
   "display_name": "Python 3",
   "language": "python",
   "name": "python3"
  },
  "language_info": {
   "codemirror_mode": {
    "name": "ipython",
    "version": 3
   },
   "file_extension": ".py",
   "mimetype": "text/x-python",
   "name": "python",
   "nbconvert_exporter": "python",
   "pygments_lexer": "ipython3",
   "version": "3.7.4"
  }
 },
 "nbformat": 4,
 "nbformat_minor": 4
}
