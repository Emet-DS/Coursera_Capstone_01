{
 "cells": [
  {
   "cell_type": "markdown",
   "metadata": {},
   "source": [
    "# Capstone DS Course\n",
    "## Emet Flores\n",
    "### Week 05 - Final Assignment\n",
    "### Part 02_1 - Get available data\n",
    "### Notes:\n",
    " - Data Scrape for San Diego Zip Codes\n",
    " - Extended data set for Zip Codes\n",
    " - Create File"
   ]
  },
  {
   "cell_type": "code",
   "execution_count": 3,
   "metadata": {},
   "outputs": [],
   "source": [
    "# Inlcude Beutifulsoup library\n",
    "from bs4 import BeautifulSoup\n",
    "# And to manipulate dataframes\n",
    "import pandas as pd\n"
   ]
  },
  {
   "cell_type": "code",
   "execution_count": 4,
   "metadata": {},
   "outputs": [
    {
     "name": "stderr",
     "output_type": "stream",
     "text": [
      "D:\\Anaconda3\\lib\\site-packages\\urllib3\\connectionpool.py:847: InsecureRequestWarning: Unverified HTTPS request is being made. Adding certificate verification is strongly advised. See: https://urllib3.readthedocs.io/en/latest/advanced-usage.html#ssl-warnings\n",
      "  InsecureRequestWarning)\n"
     ]
    }
   ],
   "source": [
    "# Open the file directly from its URL\n",
    "import urllib3\n",
    "url = 'https://www.bestplaces.net/find/zip.aspx?msa=41740&st=CA'\n",
    "http = urllib3.PoolManager()\n",
    "page = http.request('GET', url)\n",
    "bs = BeautifulSoup(page.data)\n",
    "\n",
    "# print(bs.prettify()) #to verify that we get the html file correctly"
   ]
  },
  {
   "cell_type": "code",
   "execution_count": 5,
   "metadata": {},
   "outputs": [
    {
     "name": "stdout",
     "output_type": "stream",
     "text": [
      "[<u>91901 (Alpine)</u>, <u>91902 (Bonita)</u>, <u>91905 (Boulevard)</u>, <u>91906 (Campo)</u>, <u>91910 (Chula Vista)</u>, <u>91911 (Chula Vista)</u>, <u>91913 (Chula Vista)</u>, <u>91914 (Chula Vista)</u>, <u>91915 (Chula Vista)</u>, <u>91916 (Descanso)</u>, <u>91917 (Dulzura)</u>, <u>91931 (Guatay)</u>, <u>91932 (Imperial Beach)</u>, <u>91934 (Jacumba)</u>, <u>91935 (Jamul)</u>, <u>91941 (La Mesa)</u>, <u>91942 (La Mesa)</u>, <u>91945 (Lemon Grove)</u>, <u>91948 (Mount Laguna)</u>, <u>91950 (National City)</u>, <u>91962 (Pine Valley)</u>, <u>91963 (Potrero)</u>, <u>91977 (La Presa)</u>, <u>91978 (Spring Valley)</u>, <u>91980 (Tecate)</u>, <u>92003 (Bonsall)</u>, <u>92004 (Borrego Springs)</u>, <u>92007 (Encinitas)</u>, <u>92008 (Carlsbad)</u>, <u>92009 (Carlsbad)</u>, <u>92010 (Carlsbad)</u>, <u>92011 (Carlsbad)</u>, <u>92014 (San Diego)</u>, <u>92019 (Rancho San Diego)</u>, <u>92020 (El Cajon)</u>, <u>92021 (El Cajon)</u>, <u>92024 (Encinitas)</u>, <u>92025 (Escondido)</u>, <u>92026 (Escondido)</u>, <u>92027 (Escondido)</u>, <u>92028 (Fallbrook)</u>, <u>92029 (Escondido)</u>, <u>92036 (Julian)</u>, <u>92037 (San Diego)</u>, <u>92040 (Lakeside)</u>, <u>92054 (Oceanside)</u>, <u>92055 (Cmp Pendleton)</u>, <u>92056 (Oceanside)</u>, <u>92057 (Oceanside)</u>, <u>92058 (Oceanside)</u>, <u>92059 (Pala)</u>, <u>92060 (Palomar Mountain)</u>, <u>92061 (Pauma Valley)</u>, <u>92064 (Poway)</u>, <u>92065 (Ramona)</u>, <u>92066 (Ranchita)</u>, <u>92067 (Fairbanks Ranch)</u>, <u>92069 (San Marcos)</u>, <u>92070 (Santa Ysabel)</u>, <u>92071 (Santee)</u>, <u>92075 (Solana Beach)</u>, <u>92078 (San Marcos)</u>, <u>92081 (Vista)</u>, <u>92082 (Valley Center)</u>, <u>92083 (Vista)</u>, <u>92084 (Vista)</u>, <u>92086 (Warner Springs)</u>, <u>92091 (Rancho Santa Fe)</u>, <u>92101 (San Diego)</u>, <u>92102 (San Diego)</u>, <u>92103 (San Diego)</u>, <u>92104 (San Diego)</u>, <u>92105 (San Diego)</u>, <u>92106 (San Diego)</u>, <u>92107 (San Diego)</u>, <u>92108 (San Diego)</u>, <u>92109 (San Diego)</u>, <u>92110 (San Diego)</u>, <u>92111 (San Diego)</u>, <u>92113 (San Diego)</u>, <u>92114 (San Diego)</u>, <u>92115 (San Diego)</u>, <u>92116 (San Diego)</u>, <u>92117 (San Diego)</u>, <u>92118 (Coronado)</u>, <u>92119 (San Diego)</u>, <u>92120 (San Diego)</u>, <u>92121 (San Diego)</u>, <u>92122 (San Diego)</u>, <u>92123 (San Diego)</u>, <u>92124 (San Diego)</u>, <u>92126 (San Diego)</u>, <u>92127 (San Diego)</u>, <u>92128 (San Diego)</u>, <u>92129 (San Diego)</u>, <u>92130 (San Diego)</u>, <u>92131 (San Diego)</u>, <u>92132 (San Diego)</u>, <u>92134 (San Diego)</u>, <u>92135 (Coronado)</u>, <u>92139 (San Diego)</u>, <u>92140 (San Diego)</u>, <u>92145 (San Diego)</u>, <u>92147 (San Diego)</u>, <u>92154 (San Diego)</u>, <u>92155 (Coronado)</u>, <u>92173 (San Diego)</u>]\n"
     ]
    }
   ],
   "source": [
    "# Get San Diego Metro Zip Codes\n",
    "page_list = bs.find(\"div\", {\"class\": \"row mt-3\"}).findAll('u')\n",
    "print(page_list)"
   ]
  },
  {
   "cell_type": "code",
   "execution_count": 6,
   "metadata": {},
   "outputs": [
    {
     "data": {
      "text/html": [
       "<div>\n",
       "<style scoped>\n",
       "    .dataframe tbody tr th:only-of-type {\n",
       "        vertical-align: middle;\n",
       "    }\n",
       "\n",
       "    .dataframe tbody tr th {\n",
       "        vertical-align: top;\n",
       "    }\n",
       "\n",
       "    .dataframe thead th {\n",
       "        text-align: right;\n",
       "    }\n",
       "</style>\n",
       "<table border=\"1\" class=\"dataframe\">\n",
       "  <thead>\n",
       "    <tr style=\"text-align: right;\">\n",
       "      <th></th>\n",
       "      <th>PostalCode</th>\n",
       "      <th>Neighborhood</th>\n",
       "    </tr>\n",
       "  </thead>\n",
       "  <tbody>\n",
       "    <tr>\n",
       "      <td>0</td>\n",
       "      <td>91901</td>\n",
       "      <td>Alpine</td>\n",
       "    </tr>\n",
       "    <tr>\n",
       "      <td>1</td>\n",
       "      <td>91902</td>\n",
       "      <td>Bonita</td>\n",
       "    </tr>\n",
       "    <tr>\n",
       "      <td>2</td>\n",
       "      <td>91905</td>\n",
       "      <td>Boulevard</td>\n",
       "    </tr>\n",
       "    <tr>\n",
       "      <td>3</td>\n",
       "      <td>91906</td>\n",
       "      <td>Campo</td>\n",
       "    </tr>\n",
       "    <tr>\n",
       "      <td>4</td>\n",
       "      <td>91910</td>\n",
       "      <td>Chula Vista</td>\n",
       "    </tr>\n",
       "  </tbody>\n",
       "</table>\n",
       "</div>"
      ],
      "text/plain": [
       "  PostalCode  Neighborhood\n",
       "0      91901        Alpine\n",
       "1      91902        Bonita\n",
       "2      91905     Boulevard\n",
       "3      91906         Campo\n",
       "4      91910   Chula Vista"
      ]
     },
     "execution_count": 6,
     "metadata": {},
     "output_type": "execute_result"
    }
   ],
   "source": [
    "# Create a simple data frames so we can process the target zipcodes\n",
    "San_Diego_codes = pd.DataFrame(columns = ['PostalCode','Neighborhood'], index = range(0,len(page_list)))\n",
    "\n",
    "\n",
    "# Format list of zip codes in a friendlier format\n",
    "for i in range(len(page_list)):\n",
    "    temp_string = page_list[i].text.replace(\"<u>\", \"\").replace(\"(\",\"\").replace(\")\",\"\")\n",
    "    postal_code = temp_string[0:5]\n",
    "    neighborhood = temp_string[5: len(temp_string)]\n",
    "    # Insert the cell data into our dataframe\n",
    "    San_Diego_codes.iat[i,0] = postal_code\n",
    "    San_Diego_codes.iat[i,1] = neighborhood\n",
    "    \n",
    "    #print(temp_string)\n",
    "San_Diego_codes.head()"
   ]
  },
  {
   "cell_type": "code",
   "execution_count": 7,
   "metadata": {},
   "outputs": [
    {
     "data": {
      "text/plain": [
       "(107, 2)"
      ]
     },
     "execution_count": 7,
     "metadata": {},
     "output_type": "execute_result"
    }
   ],
   "source": [
    "# Count the number of target Zip codes \n",
    "San_Diego_codes.shape"
   ]
  },
  {
   "cell_type": "code",
   "execution_count": 8,
   "metadata": {},
   "outputs": [],
   "source": [
    "# And create a simple CSV File with the target zip codes\n",
    "\n",
    "San_Diego_codes.to_csv('SD_Metro_Zipcodes.csv', sep = ',', encoding = 'ANSI')\n"
   ]
  },
  {
   "cell_type": "code",
   "execution_count": null,
   "metadata": {},
   "outputs": [],
   "source": []
  }
 ],
 "metadata": {
  "kernelspec": {
   "display_name": "Python 3",
   "language": "python",
   "name": "python3"
  },
  "language_info": {
   "codemirror_mode": {
    "name": "ipython",
    "version": 3
   },
   "file_extension": ".py",
   "mimetype": "text/x-python",
   "name": "python",
   "nbconvert_exporter": "python",
   "pygments_lexer": "ipython3",
   "version": "3.7.4"
  }
 },
 "nbformat": 4,
 "nbformat_minor": 4
}
