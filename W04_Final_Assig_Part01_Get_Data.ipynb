{
 "cells": [
  {
   "cell_type": "markdown",
   "metadata": {},
   "source": [
    "# Capstone DS Course\n",
    "## Emet Flores\n",
    "### Week 04 - Final Assignment\n",
    "### Backround:\n",
    "- Define a problem that can leverage the methods and tools learned and provide recommendations relevant to the problem.\n",
    "- Describe the data required, has to leverage **Foursquare data**.\n",
    "- Apply relevant tools that will help to understand an provide insight to the problem\n",
    "- And finally summarize in a report the relevant conclusions (observing relevant methodology)."
   ]
  },
  {
   "cell_type": "markdown",
   "metadata": {},
   "source": [
    "## 1. Scope Definition\n",
    "### 1.1 Defining a challenging problem:\n",
    "- A good friend (we will call him **\"Joe\"** ) has an interest in starting a restaurant in **San Diego**.\n",
    "- He understands that it's a very competitive market, and also has limited monetary resources to setup the restaurant.\n",
    "- There are some specific questions that he asked me to answer:\n",
    " - What **type of restaurant** would be a good bet for San Diego.  \n",
    " - What **general location** would provide reasonable success for that specific type of restaurant, considering there is less competition for that type of restaurant.\n"
   ]
  },
  {
   "cell_type": "markdown",
   "metadata": {},
   "source": [
    "### 1.2 Defining initial data requirements:\n",
    "- We need to understand which restaurants are popular in **San Diego**, we can use Foursquare data for this purpose.\n",
    "- A general ranking of restaurant types for the **San Diego** area would provide a good starting point, and confirm **Joes** preference for **one type** of restaurant (eg. Fast Food, Italian, etc.).\n",
    "- Since we need to find a location that would provide reasonable success, we would require to review restaurant popularity by geographic locations (Neighborhoods? Zipcodes?)\n",
    "- Once we find locations with very popular restaurants, we will identify if those locations have similar geographic/demographic attributes.\n",
    "- If we find consistent profiles for the popular restaurant locations, we will use that information to search for those atributes where there are no similar restaurants.\n",
    "\n",
    "### 1.3 The general assumption is: \n",
    "- To find locations that share geographic/demographic attributes of the successful restaurants, in locations where there is less (or no) competition.\n"
   ]
  },
  {
   "cell_type": "markdown",
   "metadata": {},
   "source": [
    "## 2. General steps (Method)\n",
    "### 2.1 Refine the data requirements\n",
    "2.1.1 Gather information of popular restaurants for **San Diego**\n",
    " - Use Foursquare to rank popular restaurant venues in a very large radius around the **San Diego Metro Area**\n",
    " - Support the rank visualizing the data\n",
    " - And confirm with Joe, **one type** of restaurant venue that he has a strong preference for.\n",
    "\n",
    "2.1.2 Refine our understanding of the specific **\"type\"** of popular restaurants\n",
    " - Rank restaurant types using a geographic reference (Neighborhood, Zip code), and determine quick sources where we can scrape data for that purpose.\n",
    " - Use some of the techniques learned, to leverage Foursquare data, and gather insight on the restaurant popularity by geographic zones.\n",
    " - Once better understanding is achieved on which geographic zones have successful restaurants of the target **\"type\"**\n",
    "    - A specific reference of geographic sites is defined, to analyze the zones **\"profile\"\"**.\n",
    " - Save the general geographic data, for further analysis (find ideal sites that have less competition).\n",
    "\n",
    "2.1.3 We will need additional geographic/demographic information\n",
    " - Other data attributes are necessary (additional to Foursquare) to identify similarities for the target sites to analyze\n",
    " - Using third party dataset will provide the additional insight (and data attributes) we need.\n",
    "    - Number of people for the geographic zone, number of businesses, total area, and other demographic attributes that can help us.\n",
    " - Create supporting data visualization charts to gather insight\n",
    " - Identify relevant zone **profiles**\n",
    " \n",
    "2.1.4 Apply insight to find **ideal geographic target zones**\n",
    " - Review identified zone **Profiles**\n",
    " - Find similar **Profiles** in the complementary geographic/demographic dataset\n",
    " - Compare with Foursquare geographic data\n",
    "   - Sites that don't have the **selected restaurant type** by Joe\n",
    "   - That have similar demographic profiles\n",
    " - Identify list of ideal geographic sites, with the considered assumptions\n"
   ]
  },
  {
   "cell_type": "markdown",
   "metadata": {},
   "source": [
    "# 3. Final review and report\n",
    "### 3.1 Insight review with **Joe**\n",
    "\n",
    "3.1.1 Review all geographic data charts derived from Foursquare data.\n",
    "\n",
    " - Global top 10 of restaurant types in **San Diego**\n",
    " - Top 10 restaurant types by geographic site\n",
    "\n",
    "3.1.2 Review the selected restaurant type by Joe, and give context to the selection\n",
    "\n",
    " - Identify the specific type of restaurant, and map the available rank in a map\n",
    " - Review if there are similarities (clusters with successful restaurants) for those geographic sites\n",
    " - Understand the similarities (clusters with successful restaurants)\n",
    "\n",
    "3.1.3 Review the global geographic data set, to find similar site **profiles** and compare with Foursquare data\n",
    "\n",
    " - Identify similar site profiles (clusters for ideal sites)\n",
    " - Compare with Foursquare data (an outer join of geographic sites)\n",
    " - Review the list of ideal sites\n",
    "\n",
    "3.1.4 Write a preliminary report with the findings, and review with **Joe**\n",
    "\n",
    " - Context to each section\n",
    " - Preliminary findings\n",
    " - Gather feedback from **Joe**\n"
   ]
  },
  {
   "cell_type": "markdown",
   "metadata": {},
   "source": [
    "# 4. Conclusions\n",
    "### 4.1 Final report\n",
    "\n",
    "4.1.1 Present the final report to **Joe**\n",
    "\n",
    "4.1.2 Highlight the gathered insights\n",
    "\n",
    " - Most popular restaurants in **San Diego**\n",
    " - Successful restaurant “Clusters” for a specific type of restaurant\n",
    " - Ideal sites from the gathered information.\n",
    " - Final site recommendations for **Joe**\n",
    " - Ending commentary of the applied tools, and other potential questions for a follow up engagement.\n",
    " "
   ]
  },
  {
   "cell_type": "code",
   "execution_count": null,
   "metadata": {},
   "outputs": [],
   "source": []
  }
 ],
 "metadata": {
  "kernelspec": {
   "display_name": "Python 3",
   "language": "python",
   "name": "python3"
  },
  "language_info": {
   "codemirror_mode": {
    "name": "ipython",
    "version": 3
   },
   "file_extension": ".py",
   "mimetype": "text/x-python",
   "name": "python",
   "nbconvert_exporter": "python",
   "pygments_lexer": "ipython3",
   "version": "3.7.4"
  }
 },
 "nbformat": 4,
 "nbformat_minor": 4
}
